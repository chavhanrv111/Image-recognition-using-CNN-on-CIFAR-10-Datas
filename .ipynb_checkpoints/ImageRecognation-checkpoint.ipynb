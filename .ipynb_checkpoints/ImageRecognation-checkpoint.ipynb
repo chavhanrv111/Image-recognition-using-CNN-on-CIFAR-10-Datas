{
 "cells": [
  {
   "cell_type": "markdown",
   "id": "be2be9a5",
   "metadata": {},
   "source": [
    "##Image recognition using CNN on CIFAR-10 Datas"
   ]
  },
  {
   "cell_type": "code",
   "execution_count": 3,
   "id": "014899a0",
   "metadata": {},
   "outputs": [],
   "source": [
    "import keras\n",
    "from keras.datasets import cifar10\n",
    "from keras.models import Sequential\n",
    "from keras.layers import Dense, Dropout, Flatten, Conv2D, MaxPooling2D\n",
    "from pathlib import Path\n",
    "from keras.utils.np_utils import to_categorical"
   ]
  },
  {
   "cell_type": "code",
   "execution_count": 4,
   "id": "40f30c4f",
   "metadata": {},
   "outputs": [],
   "source": [
    "# Load the dataset\n",
    "\n",
    "(X_train, y_train), (X_test, y_test)= cifar10.load_data()"
   ]
  },
  {
   "cell_type": "code",
   "execution_count": 5,
   "id": "635d2102",
   "metadata": {},
   "outputs": [],
   "source": [
    "#Normalize the data\n",
    "\n",
    "X_train=X_train.astype('float32')\n",
    "X_test=X_test.astype('float32')\n",
    "X_train/=255.0\n",
    "X_test/=255.0"
   ]
  },
  {
   "cell_type": "code",
   "execution_count": 6,
   "id": "1cdb7d65",
   "metadata": {},
   "outputs": [],
   "source": [
    "# convert class vectors to binary class matrices\n",
    "\n",
    "y_train= to_categorical(y_train,10)\n",
    "y_test= to_categorical(y_test,10)"
   ]
  },
  {
   "cell_type": "code",
   "execution_count": 7,
   "id": "9a0fdfd7",
   "metadata": {},
   "outputs": [],
   "source": [
    "#Model\n",
    "\n",
    "model=Sequential()\n",
    "model.add(Conv2D(32,(3,3), padding='same', input_shape=(32,32,3), activation='relu'))\n",
    "model.add(Conv2D(32, (3,3), activation='relu'))\n",
    "model.add(MaxPooling2D(pool_size=(2,2)))\n",
    "model.add(Dropout(0.25))\n",
    "\n",
    "model.add(Conv2D(64,(3,3), padding='same', activation='relu'))\n",
    "model.add(Conv2D(64, (3,3), activation='relu'))\n",
    "model.add(MaxPooling2D(pool_size=(2,2)))\n",
    "model.add(Dropout(0.25))\n",
    "\n",
    "model.add(Flatten())\n",
    "model.add(Dense(512, activation='relu'))\n",
    "model.add(Dropout(0.5))\n",
    "model.add(Dense(10, activation='softmax'))"
   ]
  },
  {
   "cell_type": "code",
   "execution_count": 8,
   "id": "a1da7ea7",
   "metadata": {},
   "outputs": [
    {
     "name": "stdout",
     "output_type": "stream",
     "text": [
      "Model: \"sequential\"\n",
      "_________________________________________________________________\n",
      " Layer (type)                Output Shape              Param #   \n",
      "=================================================================\n",
      " conv2d (Conv2D)             (None, 32, 32, 32)        896       \n",
      "                                                                 \n",
      " conv2d_1 (Conv2D)           (None, 30, 30, 32)        9248      \n",
      "                                                                 \n",
      " max_pooling2d (MaxPooling2D  (None, 15, 15, 32)       0         \n",
      " )                                                               \n",
      "                                                                 \n",
      " dropout (Dropout)           (None, 15, 15, 32)        0         \n",
      "                                                                 \n",
      " conv2d_2 (Conv2D)           (None, 15, 15, 64)        18496     \n",
      "                                                                 \n",
      " conv2d_3 (Conv2D)           (None, 13, 13, 64)        36928     \n",
      "                                                                 \n",
      " max_pooling2d_1 (MaxPooling  (None, 6, 6, 64)         0         \n",
      " 2D)                                                             \n",
      "                                                                 \n",
      " dropout_1 (Dropout)         (None, 6, 6, 64)          0         \n",
      "                                                                 \n",
      " flatten (Flatten)           (None, 2304)              0         \n",
      "                                                                 \n",
      " dense (Dense)               (None, 512)               1180160   \n",
      "                                                                 \n",
      " dropout_2 (Dropout)         (None, 512)               0         \n",
      "                                                                 \n",
      " dense_1 (Dense)             (None, 10)                5130      \n",
      "                                                                 \n",
      "=================================================================\n",
      "Total params: 1,250,858\n",
      "Trainable params: 1,250,858\n",
      "Non-trainable params: 0\n",
      "_________________________________________________________________\n"
     ]
    }
   ],
   "source": [
    "# compile the model\n",
    "model.compile(\n",
    "    loss='categorical_crossentropy',\n",
    "    optimizer='adam',\n",
    "    metrics=['accuracy'])\n",
    "\n",
    "# print the model summary\n",
    "model.summary()"
   ]
  },
  {
   "cell_type": "code",
   "execution_count": 9,
   "id": "f3fe48e7",
   "metadata": {},
   "outputs": [
    {
     "name": "stdout",
     "output_type": "stream",
     "text": [
      "Epoch 1/10\n",
      "1563/1563 [==============================] - 307s 195ms/step - loss: 1.5367 - accuracy: 0.4376 - val_loss: 1.2035 - val_accuracy: 0.5702\n",
      "Epoch 2/10\n",
      "1563/1563 [==============================] - 308s 197ms/step - loss: 1.1315 - accuracy: 0.5983 - val_loss: 0.9377 - val_accuracy: 0.6687\n",
      "Epoch 3/10\n",
      "1563/1563 [==============================] - 307s 196ms/step - loss: 0.9774 - accuracy: 0.6559 - val_loss: 0.8485 - val_accuracy: 0.7007\n",
      "Epoch 4/10\n",
      "1563/1563 [==============================] - 310s 198ms/step - loss: 0.8873 - accuracy: 0.6874 - val_loss: 0.7882 - val_accuracy: 0.7227\n",
      "Epoch 5/10\n",
      "1563/1563 [==============================] - 307s 197ms/step - loss: 0.8255 - accuracy: 0.7129 - val_loss: 0.7850 - val_accuracy: 0.7263\n",
      "Epoch 6/10\n",
      "1563/1563 [==============================] - 317s 203ms/step - loss: 0.7800 - accuracy: 0.7246 - val_loss: 0.7392 - val_accuracy: 0.7473\n",
      "Epoch 7/10\n",
      "1563/1563 [==============================] - 311s 199ms/step - loss: 0.7417 - accuracy: 0.7384 - val_loss: 0.7287 - val_accuracy: 0.7492\n",
      "Epoch 8/10\n",
      "1563/1563 [==============================] - 184s 117ms/step - loss: 0.7129 - accuracy: 0.7509 - val_loss: 0.7275 - val_accuracy: 0.7466\n",
      "Epoch 9/10\n",
      "1563/1563 [==============================] - 177s 113ms/step - loss: 0.6909 - accuracy: 0.7548 - val_loss: 0.7094 - val_accuracy: 0.7548\n",
      "Epoch 10/10\n",
      "1563/1563 [==============================] - 174s 111ms/step - loss: 0.6651 - accuracy: 0.7669 - val_loss: 0.6642 - val_accuracy: 0.7702\n"
     ]
    },
    {
     "data": {
      "text/plain": [
       "<keras.callbacks.History at 0x2246596dbd0>"
      ]
     },
     "execution_count": 9,
     "metadata": {},
     "output_type": "execute_result"
    }
   ],
   "source": [
    "# Train the model\n",
    "\n",
    "model.fit(\n",
    "    X_train,\n",
    "    y_train,\n",
    "    batch_size=32,\n",
    "    epochs=10,\n",
    "    validation_data=(X_test, y_test),\n",
    "    shuffle=True)"
   ]
  },
  {
   "cell_type": "code",
   "execution_count": 47,
   "id": "74a356c4",
   "metadata": {},
   "outputs": [
    {
     "data": {
      "text/plain": [
       "4383"
      ]
     },
     "execution_count": 47,
     "metadata": {},
     "output_type": "execute_result"
    }
   ],
   "source": [
    "# save the neural network architecture\n",
    "\n",
    "model_structure= model.to_json()\n",
    "f=Path(\"model_structure.json\")\n",
    "f.write_text(model_structure)"
   ]
  },
  {
   "cell_type": "code",
   "execution_count": 48,
   "id": "046589aa",
   "metadata": {},
   "outputs": [],
   "source": [
    "# Save the trained neural etwork weights\n",
    "model.save_weights(\"model_weights.h5\")"
   ]
  },
  {
   "cell_type": "code",
   "execution_count": 49,
   "id": "a73a5afb",
   "metadata": {},
   "outputs": [],
   "source": [
    "# Making predictions on the images\n",
    "\n",
    "from keras.models import model_from_json\n",
    "from pathlib import Path\n",
    "from keras.preprocessing import image\n",
    "import numpy as np\n",
    "from matplotlib import pyplot as plt\n"
   ]
  },
  {
   "cell_type": "code",
   "execution_count": 62,
   "id": "3a799bce",
   "metadata": {},
   "outputs": [],
   "source": [
    "# CIFAR-10 Dataset class labels\n",
    "\n",
    "class_labels=[\n",
    "    \"Planes\",\n",
    "    \"Car\",\n",
    "    \"Bird\",\n",
    "    \"Cat\",\n",
    "    \"Deer\",\n",
    "    \"Dog\",\n",
    "    \"Frog\",\n",
    "    \"Horse\",\n",
    "    \"Boat\",\n",
    "    \"Truck\"\n",
    "]"
   ]
  },
  {
   "cell_type": "code",
   "execution_count": 63,
   "id": "e308c1aa",
   "metadata": {},
   "outputs": [],
   "source": [
    "# load the json file that contains the model structure\n",
    "\n",
    "f=Path(\"model_structure.json\")\n",
    "model_structure= f.read_text()"
   ]
  },
  {
   "cell_type": "code",
   "execution_count": 64,
   "id": "2d2b6808",
   "metadata": {},
   "outputs": [],
   "source": [
    "# Recreate the keras model object from the json data\n",
    "model= model_from_json(model_structure)"
   ]
  },
  {
   "cell_type": "code",
   "execution_count": 65,
   "id": "65a4d0e3",
   "metadata": {},
   "outputs": [],
   "source": [
    "#Re-load the model training weights\n",
    "model.load_weights(\"model_weights.h5\")"
   ]
  },
  {
   "cell_type": "code",
   "execution_count": 87,
   "id": "bd177004",
   "metadata": {},
   "outputs": [
    {
     "data": {
      "text/plain": [
       "<matplotlib.image.AxesImage at 0x224999bde10>"
      ]
     },
     "execution_count": 87,
     "metadata": {},
     "output_type": "execute_result"
    },
    {
     "data": {
      "image/png": "[encoded data removed]",
      "text/plain": [
       "<Figure size 432x288 with 1 Axes>"
      ]
     },
     "metadata": {
      "needs_background": "light"
     },
     "output_type": "display_data"
    }
   ],
   "source": [
    "# Load an image file to test\n",
    "\n",
    "img= image.load_img(\"dog.jpg\", target_size=(32,32))\n",
    "plt.imshow(img)"
   ]
  },
  {
   "cell_type": "code",
   "execution_count": 88,
   "id": "ac4949a2",
   "metadata": {},
   "outputs": [],
   "source": [
    "# Convert the image to a numpy array\n",
    "\n",
    "image_to_test= image.img_to_array(img)"
   ]
  },
  {
   "cell_type": "code",
   "execution_count": 89,
   "id": "f07e6f86",
   "metadata": {},
   "outputs": [],
   "source": [
    "# Add a fourth dimension to the image, since Keras expects a list of images, not a single image\n",
    "\n",
    "list_of_images= np.expand_dims(image_to_test, axis=0)"
   ]
  },
  {
   "cell_type": "code",
   "execution_count": 90,
   "id": "b0e0c088",
   "metadata": {},
   "outputs": [],
   "source": [
    "# make predictions using the model\n",
    "\n",
    "results= model.predict(list_of_images)"
   ]
  },
  {
   "cell_type": "code",
   "execution_count": 91,
   "id": "00ab5283",
   "metadata": {},
   "outputs": [],
   "source": [
    "# since we are only testing one image, we only need to check the first result\n",
    "\n",
    "single_result= results[0]"
   ]
  },
  {
   "cell_type": "code",
   "execution_count": 92,
   "id": "31d2287e",
   "metadata": {},
   "outputs": [],
   "source": [
    "# We will get a likelihood score for all 10 possible classes. Find out which class has the highest score\n",
    "\n",
    "most_likely_class_index= int(np.argmax(single_result))\n",
    "class_likelihood= single_result[most_likely_class_index]"
   ]
  },
  {
   "cell_type": "code",
   "execution_count": 93,
   "id": "5a09dd63",
   "metadata": {},
   "outputs": [],
   "source": [
    "# Get the name of the most likely class\n",
    "class_label= class_labels[most_likely_class_index]"
   ]
  },
  {
   "cell_type": "code",
   "execution_count": 94,
   "id": "f21fa9c9",
   "metadata": {},
   "outputs": [
    {
     "name": "stdout",
     "output_type": "stream",
     "text": [
      "This is image is a Dog- Likelihood: 1.000000\n"
     ]
    }
   ],
   "source": [
    "#Print the result\n",
    "\n",
    "print(\"This is image is a {}- Likelihood: {:2f}\".format(class_label, class_likelihood))"
   ]
  },
  {
   "cell_type": "code",
   "execution_count": null,
   "id": "e72f6109",
   "metadata": {},
   "outputs": [],
   "source": []
  },
  {
   "cell_type": "code",
   "execution_count": null,
   "id": "7a6544b6",
   "metadata": {},
   "outputs": [],
   "source": []
  }
 ],
 "metadata": {
  "kernelspec": {
   "display_name": "Python 3 (ipykernel)",
   "language": "python",
   "name": "python3"
  },
  "language_info": {
   "codemirror_mode": {
    "name": "ipython",
    "version": 3
   },
   "file_extension": ".py",
   "mimetype": "text/x-python",
   "name": "python",
   "nbconvert_exporter": "python",
   "pygments_lexer": "ipython3",
   "version": "3.10.8"
  }
 },
 "nbformat": 4,
 "nbformat_minor": 5
}
